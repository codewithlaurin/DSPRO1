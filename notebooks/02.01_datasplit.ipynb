{
 "cells": [
  {
   "cell_type": "code",
   "execution_count": 63,
   "id": "94ca50ba",
   "metadata": {},
   "outputs": [],
   "source": [
    "import os\n",
    "import sys\n",
    "import shutil\n",
    "\n",
    "sys.path.append('../src')\n",
    "import data\n",
    "\n",
    "from sklearn.model_selection import train_test_split"
   ]
  },
  {
   "cell_type": "code",
   "execution_count": 8,
   "id": "02d70108",
   "metadata": {},
   "outputs": [],
   "source": [
    "root = data.get_data_path()"
   ]
  },
  {
   "cell_type": "code",
   "execution_count": 16,
   "id": "34f19f2f",
   "metadata": {},
   "outputs": [],
   "source": [
    "classes = ['Apple___Apple_scab', \n",
    "'Apple___Black_rot', \n",
    "'Apple___Cedar_apple_rust', \n",
    "'Apple___healthy', \n",
    "'Tomato___Bacterial_spot', \n",
    "'Tomato___Early_blight', \n",
    "'Tomato___Late_blight', \n",
    "'Tomato___Leaf_Mold', \n",
    "'Tomato___Septoria_leaf_spot',\n",
    "'Tomato___Spider_mites Two-spotted_spider_mite',\n",
    "'Tomato___Target_Spot',\n",
    "'Tomato___Tomato_Yellow_Leaf_Curl_Virus',\n",
    "'Tomato___Tomato_mosaic_virus',\n",
    "'Tomato___healthy'\n",
    "]"
   ]
  },
  {
   "cell_type": "code",
   "execution_count": 21,
   "id": "45ab4bba",
   "metadata": {},
   "outputs": [],
   "source": [
    "files = []\n",
    "labels = []\n",
    "\n",
    "for label in classes:\n",
    "    label_dir = os.path.join(root, label)\n",
    "    for img in os.listdir(label_dir):\n",
    "        files.append(os.path.join(label_dir, img))\n",
    "        labels.append(label)"
   ]
  },
  {
   "cell_type": "code",
   "execution_count": 48,
   "id": "8728a960",
   "metadata": {},
   "outputs": [],
   "source": [
    "train_paths, temp_paths, train_labels, temp_labels = train_test_split(\n",
    "    files, labels, stratify=labels, test_size=0.3, random_state=27)"
   ]
  },
  {
   "cell_type": "code",
   "execution_count": 49,
   "id": "f3b1d3ee",
   "metadata": {},
   "outputs": [
    {
     "data": {
      "text/plain": [
       "(14931, 6400, 14931, 6400)"
      ]
     },
     "execution_count": 49,
     "metadata": {},
     "output_type": "execute_result"
    }
   ],
   "source": [
    "len(train_paths), len(temp_paths), len(train_labels), len(temp_labels)"
   ]
  },
  {
   "cell_type": "code",
   "execution_count": 52,
   "id": "293a3bb7",
   "metadata": {},
   "outputs": [],
   "source": [
    "test_paths, val_paths, test_labels, val_labels = train_test_split(\n",
    "    temp_paths, temp_labels, stratify=temp_labels, test_size=1/3, random_state=27)"
   ]
  },
  {
   "cell_type": "code",
   "execution_count": 53,
   "id": "eb474f71",
   "metadata": {},
   "outputs": [
    {
     "data": {
      "text/plain": [
       "(4266, 4266, 2134, 2134)"
      ]
     },
     "execution_count": 53,
     "metadata": {},
     "output_type": "execute_result"
    }
   ],
   "source": [
    "len(test_paths), len(test_labels), len(val_paths), len(val_labels)"
   ]
  },
  {
   "cell_type": "code",
   "execution_count": 65,
   "id": "daa96f44",
   "metadata": {},
   "outputs": [],
   "source": [
    "output_dir = \"../data/\"\n",
    "def copy_files(paths, labels, split):\n",
    "    for path, label in zip(paths, labels):\n",
    "        dest_dir = os.path.join(output_dir, split, label)\n",
    "        os.makedirs(dest_dir, exist_ok=True)\n",
    "        shutil.copy(path, dest_dir)"
   ]
  },
  {
   "cell_type": "code",
   "execution_count": 56,
   "id": "48c8f084",
   "metadata": {},
   "outputs": [],
   "source": [
    "copy_files(train_paths, train_labels, 'train')"
   ]
  },
  {
   "cell_type": "code",
   "execution_count": 62,
   "id": "4d82303e",
   "metadata": {},
   "outputs": [
    {
     "name": "stderr",
     "output_type": "stream",
     "text": [
      "4266it [00:00, 5329.60it/s]\n"
     ]
    }
   ],
   "source": [
    "copy_files(test_paths, test_labels, 'test')"
   ]
  },
  {
   "cell_type": "code",
   "execution_count": 64,
   "id": "6a3f2a33",
   "metadata": {},
   "outputs": [
    {
     "name": "stderr",
     "output_type": "stream",
     "text": [
      "2134it [00:00, 4712.12it/s]\n"
     ]
    }
   ],
   "source": [
    "copy_files(val_paths, val_labels, 'valid')"
   ]
  },
  {
   "cell_type": "code",
   "execution_count": null,
   "id": "60f003f6",
   "metadata": {},
   "outputs": [],
   "source": []
  }
 ],
 "metadata": {
  "kernelspec": {
   "display_name": ".venv",
   "language": "python",
   "name": "python3"
  },
  "language_info": {
   "codemirror_mode": {
    "name": "ipython",
    "version": 3
   },
   "file_extension": ".py",
   "mimetype": "text/x-python",
   "name": "python",
   "nbconvert_exporter": "python",
   "pygments_lexer": "ipython3",
   "version": "3.13.7"
  }
 },
 "nbformat": 4,
 "nbformat_minor": 5
}
